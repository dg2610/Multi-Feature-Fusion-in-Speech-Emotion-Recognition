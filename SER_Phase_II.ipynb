{
  "nbformat": 4,
  "nbformat_minor": 0,
  "metadata": {
    "colab": {
      "provenance": []
    },
    "kernelspec": {
      "name": "python3",
      "display_name": "Python 3"
    },
    "language_info": {
      "name": "python"
    }
  },
  "cells": [
    {
      "cell_type": "code",
      "execution_count": null,
      "metadata": {
        "id": "UxVNXovzzHmo"
      },
      "outputs": [],
      "source": [
        "import librosa\n",
        "import soundfile\n",
        "import os, glob, pickle\n",
        "import numpy as np\n",
        "from sklearn.model_selection import train_test_split\n",
        "from sklearn.neural_network import MLPClassifier\n",
        "from sklearn.metrics import accuracy_score"
      ]
    },
    {
      "cell_type": "code",
      "source": [
        "#Emotions present in the RAVDESS dataset\n",
        "emotions={\n",
        "  '01':'neutral',\n",
        "  '02':'calm',\n",
        "  '03':'happy',\n",
        "  '04':'sad',\n",
        "  '05':'angry',\n",
        "  '06':'fearful',\n",
        "  '07':'disgust',\n",
        "  '08':'surprised'\n",
        "}"
      ],
      "metadata": {
        "id": "htV7fp9y0AK0"
      },
      "execution_count": null,
      "outputs": []
    },
    {
      "cell_type": "code",
      "source": [
        "# Emotions to recognize\n",
        "emotions_to_recognize=['angry','disgust','surprised','calm','neutral','happy','sad','fearful']"
      ],
      "metadata": {
        "id": "YsoEyOCg0BPF"
      },
      "execution_count": null,
      "outputs": []
    },
    {
      "cell_type": "code",
      "source": [
        "#Extracting features from audio files\n",
        "def feature_extraction(file_name):\n",
        "    with soundfile.SoundFile(file_name) as sound_file:\n",
        "        X = sound_file.read(dtype=\"float32\")\n",
        "        sample_rate=sound_file.samplerate\n",
        "        result=np.array([])\n",
        "        # STFT\n",
        "        stft=np.abs(librosa.stft(X))\n",
        "        # MFCC\n",
        "        mfccs=np.mean(librosa.feature.mfcc(y=X, sr=sample_rate, n_mfcc=40).T, axis=0)\n",
        "        result=np.hstack((result, mfccs))\n",
        "        # Chroma_STFT\n",
        "        chroma=np.mean(librosa.feature.chroma_stft(S=stft, sr=sample_rate).T,axis=0)\n",
        "        result=np.hstack((result, chroma))\n",
        "        # Mel Spectrogram\n",
        "        mel=np.mean(librosa.feature.melspectrogram(X, sr=sample_rate).T,axis=0)\n",
        "        result=np.hstack((result, mel))\n",
        "        # As part of Phase II, Adding More features\n",
        "        # Zero Crossing Rate\n",
        "        zcr = np.mean(librosa.feature.zero_crossing_rate(y=X).T, axis=0)\n",
        "        result=np.hstack((result, zcr))\n",
        "        # CQT\n",
        "        cqt = np.mean(librosa.feature.chroma_cqt(y=X, sr=sample_rate).T, axis=0)\n",
        "        result = np.hstack((result, cqt))\n",
        "        # Chroma CENS\n",
        "        chroma_cens = np.mean(librosa.feature.chroma_cens(y=X, sr=sample_rate).T, axis=0)\n",
        "        result = np.hstack((result, chroma_cens))\n",
        "        # Spectral Centroid & Bandwidth\n",
        "        chroma_spectral_centroid = np.mean(librosa.feature.spectral_centroid(S=stft, sr=sample_rate).T, axis=0)\n",
        "        chroma_spectral_bandwidth = np.mean(librosa.feature.spectral_bandwidth(S=stft, sr=sample_rate).T, axis=0)\n",
        "        chroma_spectral_contrast = np.mean(librosa.feature.spectral_contrast(S=stft, sr=sample_rate).T, axis=0)\n",
        "        chroma_spectral_flatness = np.mean(librosa.feature.spectral_flatness(S=stft).T, axis=0)\n",
        "        chroma_spectral_rolloff = np.mean(librosa.feature.spectral_rolloff(S=stft, sr=sample_rate).T, axis=0)\n",
        "        chroma_spectral_poly_features = np.mean(librosa.feature.poly_features(S=stft, order=2).T, axis=0)\n",
        "        result = np.hstack((result, chroma_spectral_poly_features))\n",
        "        result = np.hstack((result, chroma_spectral_centroid))\n",
        "        result = np.hstack((result, chroma_spectral_rolloff))\n",
        "        result = np.hstack((result, chroma_spectral_flatness))\n",
        "        result = np.hstack((result, chroma_spectral_bandwidth))\n",
        "        result = np.hstack((result, chroma_spectral_contrast))\n",
        "        # Root Mean Square Value\n",
        "        rms = np.mean(librosa.feature.rms(y=X).T, axis=0)\n",
        "        result = np.hstack((result, rms))\n",
        "        ## Tonnetz\n",
        "        harmonic = np.abs(librosa.effects.harmonic(X))\n",
        "        tonnetz = np.mean(librosa.feature.tonnetz(y=harmonic, sr=sample_rate).T, axis=0)\n",
        "        result = np.hstack((result, tonnetz))\n",
        "        return result"
      ],
      "metadata": {
        "id": "dDSlpLWyzqna"
      },
      "execution_count": null,
      "outputs": []
    },
    {
      "cell_type": "code",
      "source": [
        "# Data Loading and feature extraction for each sound file\n",
        "def load_data(test_size=0.2):\n",
        "    x,y=[],[]\n",
        "    for file in glob.glob('/content/drive/MyDrive/RAVDESS/**/*.wav'):\n",
        "        file_name=os.path.basename(file)\n",
        "        emotion=emotions[file_name.split(\"-\")[2]]\n",
        "        if emotion not in emotions_to_recognize:\n",
        "            continue\n",
        "        feature=feature_extraction(file)\n",
        "        x.append(feature)\n",
        "        y.append(emotion)\n",
        "    return train_test_split(np.array(x), y, test_size=test_size, random_state=9)"
      ],
      "metadata": {
        "id": "VYVBdDqe0a8g"
      },
      "execution_count": null,
      "outputs": []
    },
    {
      "cell_type": "code",
      "source": [
        "# Dataset splitting for training and testing\n",
        "x_train,x_test,y_train,y_test= load_data(test_size=0.2)"
      ],
      "metadata": {
        "id": "wLwe6B3Iz97O"
      },
      "execution_count": null,
      "outputs": []
    },
    {
      "cell_type": "code",
      "source": [
        "# training and testing datasets\n",
        "print((x_train.shape[0], x_test.shape[0]))"
      ],
      "metadata": {
        "colab": {
          "base_uri": "https://localhost:8080/"
        },
        "id": "OmJvMdTi71dU",
        "outputId": "86a4fdf4-bde1-4e8e-f138-c4d0b5434412"
      },
      "execution_count": null,
      "outputs": [
        {
          "output_type": "stream",
          "name": "stdout",
          "text": [
            "(1152, 288)\n"
          ]
        }
      ]
    },
    {
      "cell_type": "code",
      "source": [
        "# the features extracted\n",
        "print(f'Features extracted: {x_train.shape[1]}')"
      ],
      "metadata": {
        "colab": {
          "base_uri": "https://localhost:8080/"
        },
        "id": "Tg_Z0FsJ76OV",
        "outputId": "cb71494a-a7ea-4eb8-b016-8848017feb9f"
      },
      "execution_count": null,
      "outputs": [
        {
          "output_type": "stream",
          "name": "stdout",
          "text": [
            "Features extracted: 226\n"
          ]
        }
      ]
    },
    {
      "cell_type": "code",
      "source": [
        "# Model Initialization -> The Multi Layer Perceptron Classifier\n",
        "model=MLPClassifier(alpha=0.01, batch_size=256, epsilon=1e-08, hidden_layer_sizes=(300,), learning_rate='adaptive', max_iter=500)"
      ],
      "metadata": {
        "id": "vzUIl2pr79WT"
      },
      "execution_count": null,
      "outputs": []
    },
    {
      "cell_type": "code",
      "source": [
        "# Model Training\n",
        "model.fit(x_train,y_train)"
      ],
      "metadata": {
        "colab": {
          "base_uri": "https://localhost:8080/"
        },
        "id": "g-LIGt1q8Af7",
        "outputId": "1151034f-e8ad-400e-e05a-5f40eaf7deea"
      },
      "execution_count": null,
      "outputs": [
        {
          "output_type": "execute_result",
          "data": {
            "text/plain": [
              "MLPClassifier(alpha=0.01, batch_size=256, hidden_layer_sizes=(300,),\n",
              "              learning_rate='adaptive', max_iter=500)"
            ]
          },
          "metadata": {},
          "execution_count": 14
        }
      ]
    },
    {
      "cell_type": "code",
      "source": [
        "# Model Prediction\n",
        "y_pred=model.predict(x_test)"
      ],
      "metadata": {
        "id": "0ZwJrMHb8C9z"
      },
      "execution_count": null,
      "outputs": []
    },
    {
      "cell_type": "code",
      "source": [
        "# Model Accuracy\n",
        "accuracy=accuracy_score(y_true=y_test, y_pred=y_pred)\n",
        "print(\"Accuracy: {:.2f}%\".format(accuracy*100))"
      ],
      "metadata": {
        "colab": {
          "base_uri": "https://localhost:8080/"
        },
        "id": "nrdWTg8D8FRw",
        "outputId": "aafdb02c-48d0-4559-87f2-381d773f4a0d"
      },
      "execution_count": null,
      "outputs": [
        {
          "output_type": "stream",
          "name": "stdout",
          "text": [
            "Accuracy: 23.26%\n"
          ]
        }
      ]
    },
    {
      "cell_type": "markdown",
      "source": [
        "Therefore adding all features has negative effect (curse of dimensionality), let's assess features individually and decide which features to be combined accordingly"
      ],
      "metadata": {
        "id": "fsM9w23c8IxT"
      }
    }
  ]
}